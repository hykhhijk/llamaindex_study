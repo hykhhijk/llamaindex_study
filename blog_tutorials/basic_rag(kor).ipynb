{
 "cells": [
  {
   "cell_type": "code",
   "execution_count": 18,
   "id": "26bbcfaf",
   "metadata": {},
   "outputs": [
    {
     "data": {
      "text/plain": [
       "True"
      ]
     },
     "execution_count": 18,
     "metadata": {},
     "output_type": "execute_result"
    }
   ],
   "source": [
    "import os\n",
    "from dotenv import load_dotenv\n",
    "\n",
    "load_dotenv(\"./../../All_LLM_tutorial/.env\")"
   ]
  },
  {
   "cell_type": "code",
   "execution_count": 19,
   "id": "d32875aa",
   "metadata": {},
   "outputs": [],
   "source": [
    "#### Example\n",
    "from llama_index.core import SimpleDirectoryReader"
   ]
  },
  {
   "cell_type": "code",
   "execution_count": 20,
   "id": "8850186e",
   "metadata": {},
   "outputs": [],
   "source": [
    "reader = SimpleDirectoryReader(input_dir=\"articles\")\n",
    "docs = reader.load_data()"
   ]
  },
  {
   "cell_type": "code",
   "execution_count": 21,
   "id": "e92d3c1c",
   "metadata": {},
   "outputs": [
    {
     "name": "stdout",
     "output_type": "stream",
     "text": [
      "Count of Techcrunch articles: 21\n",
      "Doc ID: 6dbe3af2-ddea-4f46-9f81-c84494a30af0\n",
      "Text: Signaling that investments in the supply chain sector remain\n",
      "robust, Pando, a startup developing fulfillment management\n",
      "technologies, today announced that it raised $30 million in a Series B\n",
      "round, bringing its total raised to $45 million.  Iron Pillar and\n",
      "Uncorrelated Ventures led the round, with participation from existing\n",
      "investors Nexus Vent...\n"
     ]
    }
   ],
   "source": [
    "print(f\"Count of Techcrunch articles: {len(docs)}\")\n",
    "print(docs[0])"
   ]
  },
  {
   "cell_type": "code",
   "execution_count": 22,
   "id": "9e4d620e",
   "metadata": {},
   "outputs": [
    {
     "name": "stderr",
     "output_type": "stream",
     "text": [
      "Parsing nodes: 100%|██████████| 21/21 [00:00<00:00, 494.87it/s]\n",
      "Generating embeddings: 100%|██████████| 50/50 [00:08<00:00,  5.71it/s]\n"
     ]
    }
   ],
   "source": [
    "from llama_index.core import VectorStoreIndex\n",
    "\n",
    "# 1. Documents에서 VectorStoreIndex를 직접로드\n",
    "index = VectorStoreIndex.from_documents(docs, show_progress=True)"
   ]
  },
  {
   "cell_type": "code",
   "execution_count": 23,
   "id": "c149b76a",
   "metadata": {},
   "outputs": [
    {
     "name": "stderr",
     "output_type": "stream",
     "text": [
      "Generating embeddings: 100%|██████████| 202/202 [00:04<00:00, 47.10it/s]\n"
     ]
    }
   ],
   "source": [
    "# Load VectorStoreIndex by selecting the splitter(chunk_size, chunk_overlap) and embedded model directly\n",
    "\n",
    "from llama_index.core.node_parser import SentenceSplitter\n",
    "from llama_index.embeddings.openai import OpenAIEmbedding\n",
    "from llama_index.core import VectorStoreIndex\n",
    "\n",
    "\n",
    "embed_model = OpenAIEmbedding()\n",
    "\n",
    "node_parser = SentenceSplitter(chunk_size=256, chunk_overlap=20)\n",
    "nodes = node_parser.get_nodes_from_documents(docs)\n",
    "index = VectorStoreIndex(nodes, embed_model=embed_model, show_progress=True)"
   ]
  },
  {
   "cell_type": "code",
   "execution_count": 25,
   "id": "ad7709aa",
   "metadata": {},
   "outputs": [],
   "source": [
    "# 'similarity_top_k' refers to the number of top k chunks with the highest similarity.\n",
    "\n",
    "base_retriever = index.as_retriever(similarity_top_k=5)\n",
    "source_nodes = base_retriever.retrieve(\"What is the CMA generative ai?\")"
   ]
  },
  {
   "cell_type": "code",
   "execution_count": 34,
   "id": "b58dd79e",
   "metadata": {},
   "outputs": [
    {
     "name": "stdout",
     "output_type": "stream",
     "text": [
      "---------------------------------------------\n",
      "Score: 0.862\n",
      "The expectation is that the CMA’s Digital Markets Unit, up and running since 2021 in shadow form, will (finally) gain legislative powers in the coming years to apply pro-active “pro-competition” rules which are tailored to platforms that are deemed to have “strategic market status” (SMS). So we can speculate that providers of powerful foundational AI models may, down the line, be judged to have SMS — meaning they could expect to face bespoke rules on how they must operate vis-a-vis rivals and consumers in the U.K. market.\n",
      "\n",
      "The U.K.’s data protection watchdog, the ICO, also has its eye on generative AI. It’s another existing oversight body which the government has tasked with paying special mind to AI under its plan for context-specific guidance to steer development of the tech through the application of existing laws.\n",
      "\n",
      "In a blog post last month, Stephen Almond, the ICO’s executive director of regulatory risk, offered some tips and a little warning for developers of generative AI when it comes to compliance with U.K. data protection rules.\n",
      "---------------------------------------------\n",
      "\n",
      "\n",
      "---------------------------------------------\n",
      "Score: 0.860\n",
      "Well that was fast. The U.K.’s competition watchdog has announced an initial review of “AI foundational models”, such as the large language models (LLMs) which underpin OpenAI’s ChatGPT and Microsoft’s New Bing. Generative AI models which power AI art platforms such as OpenAI’s DALL-E or Midjourney will also likely fall in scope.\n",
      "\n",
      "The Competition and Markets Authority (CMA) said its review will look at competition and consumer protection considerations in the development and use of AI foundational models — with the aim of understanding “how foundation models are developing and producing an assessment of the conditions and principles that will best guide the development of foundation models and their use in the future”.\n",
      "\n",
      "It’s proposing to publish the review in “early September”, with a deadline of June 2 for interested stakeholders to submit responses to inform its work.\n",
      "\n",
      "“Foundation models, which include large language models and generative artificial intelligence (AI), that have emerged over the past five years, have the potential to transform much of what people and businesses do.\n",
      "---------------------------------------------\n",
      "\n",
      "\n",
      "---------------------------------------------\n",
      "Score: 0.851\n",
      "The CMA says its initial review of foundational AI models is in line with instructions in the white paper, where the government talked about existing regulators conducting “detailed risk analysis” in order to be in a position to carry out potential enforcements, i.e. on dangerous, unfair and unaccountable applications of AI, using their existing powers.\n",
      "\n",
      "The regulator also points to its core mission — to support open, competitive markets — as another reason for taking a look at generative AI now.\n",
      "\n",
      "Notably, the competition watchdog is set to get additional powers to regulate Big Tech in the coming years, under plans taken off the back-burner by prime minister Rishi Sunak’s government last month, when ministers said it would move forward with a long-trailed (but much delayed) ex ante reform aimed at digital giants’ market power.\n",
      "---------------------------------------------\n",
      "\n",
      "\n",
      "---------------------------------------------\n",
      "Score: 0.844\n",
      "To ensure that innovation in AI continues in a way that benefits consumers, businesses and the UK economy, the government has asked regulators, including the [CMA], to think about how the innovative development and deployment of AI can be supported against five overarching principles: safety, security and robustness; appropriate transparency and explainability; fairness; accountability and governance; and contestability and redress,” the CMA wrote in a press release.”\n",
      "\n",
      "Stanford University’s Human-Centered Artificial Intelligence Center’s Center for Research on Foundation Models is credited with coining the term “foundational models”, back in 2021, to refer to AI systems that focus on training one model on a huge amount of data and adapting it to many applications.\n",
      "\n",
      "“The development of AI touches upon a number of important issues, including safety, security, copyright, privacy, and human rights, as well as the ways markets work.\n",
      "---------------------------------------------\n",
      "\n",
      "\n",
      "---------------------------------------------\n",
      "Score: 0.841\n",
      "Many of these issues are being considered by government or other regulators, so this initial review will focus on the questions the CMA is best placed to address — what are the likely implications of the development of AI foundation models for competition and consumer protection?” the CMA added.\n",
      "\n",
      "In a statement, its CEO, Sarah Cardell, also said:\n",
      "\n",
      "AI has burst into the public consciousness over the past few months but has been on our radar for some time. It’s a technology developing at speed and has the potential to transform the way businesses compete as well as drive substantial economic growth. It’s crucial that the potential benefits of this transformative technology are readily accessible to UK businesses and consumers while people remain protected from issues like false or misleading information. Our goal is to help this new, rapidly scaling technology develop in ways that ensure open, competitive markets and effective consumer protection.\n",
      "\n",
      "Specifically, the U.K.\n",
      "---------------------------------------------\n",
      "\n",
      "\n"
     ]
    }
   ],
   "source": [
    "# check source_nodes\n",
    "\n",
    "for node in source_nodes:\n",
    "    # print(node.metadata)\n",
    "    print(f\"---------------------------------------------\")\n",
    "    print(f\"Score: {node.score:.3f}\")\n",
    "    print(node.get_content())\n",
    "    print(f\"---------------------------------------------\\n\\n\")"
   ]
  },
  {
   "cell_type": "code",
   "execution_count": 40,
   "id": "2baa33e3",
   "metadata": {},
   "outputs": [],
   "source": [
    "from llama_index.llms.openai import OpenAI\n",
    "\n",
    "query_engine = index.as_query_engine(streaming=True, similarity_top_k=2)"
   ]
  },
  {
   "cell_type": "code",
   "execution_count": 41,
   "id": "3cac2a66",
   "metadata": {},
   "outputs": [
    {
     "name": "stdout",
     "output_type": "stream",
     "text": [
      "The CMA generative AI refers to generative artificial intelligence models that are being reviewed by the Competition and Markets Authority (CMA) in the UK. These models include large language models and generative AI that have the potential to transform various aspects of activities conducted by individuals and businesses."
     ]
    }
   ],
   "source": [
    "response = query_engine.query(\"What is the CMA generative ai?\")\n",
    "response.print_response_stream()"
   ]
  },
  {
   "cell_type": "code",
   "execution_count": 38,
   "id": "249605ba",
   "metadata": {},
   "outputs": [],
   "source": [
    "# Or you can set llm \n",
    "llm = OpenAI(model=\"gpt-4o-mini\",temperature=0)\n",
    "query_engine = index.as_query_engine(\n",
    "  streaming=True, \n",
    "  similarity_top_k=2, \n",
    "  llm=llm\n",
    ")"
   ]
  },
  {
   "cell_type": "code",
   "execution_count": 39,
   "id": "5c551fa5",
   "metadata": {},
   "outputs": [
    {
     "name": "stdout",
     "output_type": "stream",
     "text": [
      "The CMA generative AI refers to the initial review conducted by the U.K.'s Competition and Markets Authority (CMA) focusing on AI foundational models, including large language models and generative AI technologies. This review aims to assess competition and consumer protection aspects related to the development and use of these models, with the goal of understanding their evolution and establishing guiding principles for their future use. The CMA plans to publish the findings of this review in early September, following a period for stakeholders to submit their responses."
     ]
    }
   ],
   "source": [
    "response = query_engine.query(\"What is the CMA generative ai?\")\n",
    "response.print_response_stream()"
   ]
  },
  {
   "cell_type": "code",
   "execution_count": null,
   "id": "f1e32bdd",
   "metadata": {},
   "outputs": [],
   "source": []
  },
  {
   "cell_type": "code",
   "execution_count": null,
   "id": "9e322dd2",
   "metadata": {},
   "outputs": [],
   "source": []
  },
  {
   "cell_type": "code",
   "execution_count": null,
   "id": "1a29e1a6",
   "metadata": {},
   "outputs": [],
   "source": []
  },
  {
   "cell_type": "code",
   "execution_count": null,
   "id": "4a9dca6a",
   "metadata": {},
   "outputs": [],
   "source": []
  },
  {
   "cell_type": "code",
   "execution_count": null,
   "id": "79f57cd1",
   "metadata": {},
   "outputs": [],
   "source": []
  },
  {
   "cell_type": "code",
   "execution_count": null,
   "id": "81e509a1",
   "metadata": {},
   "outputs": [],
   "source": []
  }
 ],
 "metadata": {
  "kernelspec": {
   "display_name": ".venv",
   "language": "python",
   "name": "python3"
  },
  "language_info": {
   "codemirror_mode": {
    "name": "ipython",
    "version": 3
   },
   "file_extension": ".py",
   "mimetype": "text/x-python",
   "name": "python",
   "nbconvert_exporter": "python",
   "pygments_lexer": "ipython3",
   "version": "3.10.12"
  }
 },
 "nbformat": 4,
 "nbformat_minor": 5
}
