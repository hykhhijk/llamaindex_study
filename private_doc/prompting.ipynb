{
 "cells": [
  {
   "cell_type": "code",
   "execution_count": 1,
   "id": "7d62013e",
   "metadata": {},
   "outputs": [
    {
     "data": {
      "text/plain": [
       "True"
      ]
     },
     "execution_count": 1,
     "metadata": {},
     "output_type": "execute_result"
    }
   ],
   "source": [
    "#### Basic Setting\n",
    "\n",
    "import  load_dotenv\n",
    "load_dotenv.load_dotenv(\"../../All_LLM_tutorial/.env\")"
   ]
  },
  {
   "cell_type": "markdown",
   "id": "ddf7c86e",
   "metadata": {},
   "source": [
    "- RichPromptTemplate - latest-style for building jinja-style prompts with variables and logic\n",
    "- PromptTemplate - older-style simple templating for building prompts with a single f-string\n",
    "- ChatPromptTemplate - older-style simple templating for building chat prompts with messages and f-strings  \n",
    "\n",
    "**[공식 프롬프트](https://github.com/run-llama/llama_index/blob/main/llama-index-core/llama_index/core/prompts/default_prompts.py)**"
   ]
  },
  {
   "cell_type": "code",
   "execution_count": 7,
   "id": "c3c4da17",
   "metadata": {},
   "outputs": [],
   "source": [
    "from llama_index.core.prompts import RichPromptTemplate\n",
    "\n",
    "template_str = \"\"\"여기 적절한 맥락\n",
    "---------------------\n",
    "{{ context_str }}\n",
    "---------------------\n",
    "맥락에 맞춰 답해: {{ query_str }}\n",
    "\"\"\"\n",
    "qa_template = RichPromptTemplate(template_str)\n",
    "\n",
    "# you can create text prompt (for completion API)\n",
    "prompt = qa_template.format(context_str=\"맥락\", query_str=\"쿼리\")\n",
    "\n",
    "# or easily convert to message prompts (for chat API)\n",
    "# messages = qa_template.format_messages(context_str=..., query_str=...)"
   ]
  },
  {
   "cell_type": "code",
   "execution_count": 8,
   "id": "6260e8f7",
   "metadata": {},
   "outputs": [
    {
     "data": {
      "text/plain": [
       "'여기 적절한 맥락\\n---------------------\\n맥락\\n---------------------\\n맥락에 맞춰 답해: 쿼리'"
      ]
     },
     "execution_count": 8,
     "metadata": {},
     "output_type": "execute_result"
    }
   ],
   "source": [
    "prompt"
   ]
  },
  {
   "cell_type": "markdown",
   "id": "8e10897b",
   "metadata": {},
   "source": [
    "### f-string"
   ]
  },
  {
   "cell_type": "code",
   "execution_count": 9,
   "id": "540cc9df",
   "metadata": {},
   "outputs": [],
   "source": [
    "from llama_index.core import PromptTemplate\n",
    "\n",
    "template = (\n",
    "    \"여기 적절한 맥락. \\n\"\n",
    "    \"---------------------\\n\"\n",
    "    \"{context_str}\"\n",
    "    \"\\n---------------------\\n\"\n",
    "    \"맥락에 맞춰 답해: {query_str}\\n\"\n",
    ")\n",
    "qa_template = PromptTemplate(template)\n",
    "\n",
    "# you can create text prompt (for completion API)\n",
    "prompt = qa_template.format(context_str=\"맥락\", query_str=\"쿼리\")\n",
    "\n",
    "# or easily convert to message prompts (for chat API)\n",
    "# messages = qa_template.format_messages(context_str=\"맥락\", query_str=\"쿼리\")"
   ]
  },
  {
   "cell_type": "code",
   "execution_count": 10,
   "id": "f9b2f3b4",
   "metadata": {},
   "outputs": [
    {
     "data": {
      "text/plain": [
       "'여기 적절한 맥락. \\n---------------------\\n맥락\\n---------------------\\n맥락에 맞춰 답해: 쿼리\\n'"
      ]
     },
     "execution_count": 10,
     "metadata": {},
     "output_type": "execute_result"
    }
   ],
   "source": [
    "prompt"
   ]
  },
  {
   "cell_type": "code",
   "execution_count": 13,
   "id": "f4717f32",
   "metadata": {},
   "outputs": [],
   "source": [
    "from llama_index.core import ChatPromptTemplate\n",
    "from llama_index.core.llms import ChatMessage, MessageRole\n",
    "\n",
    "message_templates = [\n",
    "    ChatMessage(content=\"너는 영어를 한국어로 번역해주는 챗봇이야\", role=MessageRole.SYSTEM),\n",
    "    ChatMessage(\n",
    "        content=\"{topic}\",\n",
    "        role=MessageRole.USER,\n",
    "    ),\n",
    "]\n",
    "chat_template = ChatPromptTemplate(message_templates=message_templates)\n",
    "\n",
    "# you can create message prompts (for chat API)\n",
    "messages = chat_template.format_messages(topic=\"퇴근하고 싶어\")\n",
    "\n",
    "# or easily convert to text prompt (for completion API)\n",
    "prompt = chat_template.format(topic=...)"
   ]
  },
  {
   "cell_type": "code",
   "execution_count": 14,
   "id": "bcdf8943",
   "metadata": {},
   "outputs": [
    {
     "data": {
      "text/plain": [
       "[ChatMessage(role=<MessageRole.SYSTEM: 'system'>, additional_kwargs={}, blocks=[TextBlock(block_type='text', text='너는 영어를 한국어로 번역해주는 챗봇이야')]),\n",
       " ChatMessage(role=<MessageRole.USER: 'user'>, additional_kwargs={}, blocks=[TextBlock(block_type='text', text='퇴근하고 싶어')])]"
      ]
     },
     "execution_count": 14,
     "metadata": {},
     "output_type": "execute_result"
    }
   ],
   "source": [
    "messages"
   ]
  },
  {
   "cell_type": "code",
   "execution_count": null,
   "id": "218056b9",
   "metadata": {},
   "outputs": [],
   "source": []
  },
  {
   "cell_type": "code",
   "execution_count": null,
   "id": "9ed1e29a",
   "metadata": {},
   "outputs": [],
   "source": []
  },
  {
   "cell_type": "code",
   "execution_count": null,
   "id": "cbaaae18",
   "metadata": {},
   "outputs": [],
   "source": []
  },
  {
   "cell_type": "code",
   "execution_count": null,
   "id": "f832e23c",
   "metadata": {},
   "outputs": [],
   "source": []
  },
  {
   "cell_type": "code",
   "execution_count": null,
   "id": "e3f97773",
   "metadata": {},
   "outputs": [],
   "source": []
  }
 ],
 "metadata": {
  "kernelspec": {
   "display_name": ".venv",
   "language": "python",
   "name": "python3"
  },
  "language_info": {
   "codemirror_mode": {
    "name": "ipython",
    "version": 3
   },
   "file_extension": ".py",
   "mimetype": "text/x-python",
   "name": "python",
   "nbconvert_exporter": "python",
   "pygments_lexer": "ipython3",
   "version": "3.10.12"
  }
 },
 "nbformat": 4,
 "nbformat_minor": 5
}
