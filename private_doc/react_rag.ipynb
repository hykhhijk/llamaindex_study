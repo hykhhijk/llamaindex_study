{
 "cells": [
  {
   "cell_type": "code",
   "execution_count": 86,
   "id": "68322cc9",
   "metadata": {},
   "outputs": [
    {
     "data": {
      "text/plain": [
       "True"
      ]
     },
     "execution_count": 86,
     "metadata": {},
     "output_type": "execute_result"
    }
   ],
   "source": [
    "#### Basic Setting\n",
    "\n",
    "import  load_dotenv\n",
    "load_dotenv.load_dotenv(\"../../All_LLM_tutorial/.env\")"
   ]
  },
  {
   "cell_type": "code",
   "execution_count": 87,
   "id": "f778c427",
   "metadata": {},
   "outputs": [],
   "source": [
    "from llama_index.llms.openai import OpenAI\n",
    "from llama_index.embeddings.openai import OpenAIEmbedding\n",
    "from llama_index.core import Settings\n",
    "from llama_index.core import (\n",
    "    VectorStoreIndex,\n",
    "    SimpleDirectoryReader,\n",
    "    StorageContext,\n",
    ")\n",
    "from llama_index.vector_stores.chroma import ChromaVectorStore\n",
    "import chromadb\n",
    "from llama_index.core.node_parser import SentenceSplitter\n",
    "\n",
    "\n",
    "Settings.llm = OpenAI(model=\"gpt-4o-mini\")\n",
    "from llama_index.embeddings.huggingface import HuggingFaceEmbedding\n",
    "\n",
    "# loads https://huggingface.co/BAAI/bge-small-en-v1.5\n",
    "Settings.embed_model = HuggingFaceEmbedding(model_name=\"BAAI/bge-m3\")\n",
    "# Settings.embed_model = OpenAIEmbedding()"
   ]
  },
  {
   "cell_type": "code",
   "execution_count": 37,
   "id": "63def12f",
   "metadata": {},
   "outputs": [
    {
     "name": "stdout",
     "output_type": "stream",
     "text": [
      "Loading llama_index.core.storage.kvstore.simple_kvstore from ./storage/lyft/docstore.json.\n",
      "Loading llama_index.core.storage.kvstore.simple_kvstore from ./storage/lyft/index_store.json.\n"
     ]
    }
   ],
   "source": [
    "from llama_index.core import StorageContext, load_index_from_storage\n",
    "\n",
    "try:\n",
    "    storage_context = StorageContext.from_defaults(\n",
    "        persist_dir=\"./storage/lyft\"\n",
    "    )\n",
    "    lyft_index = load_index_from_storage(storage_context)\n",
    "\n",
    "    storage_context = StorageContext.from_defaults(\n",
    "        persist_dir=\"./storage/uber\"\n",
    "    )\n",
    "    uber_index = load_index_from_storage(storage_context)\n",
    "\n",
    "    index_loaded = True\n",
    "except:\n",
    "    index_loaded = False"
   ]
  },
  {
   "cell_type": "code",
   "execution_count": 72,
   "id": "4b857a1e",
   "metadata": {},
   "outputs": [],
   "source": [
    "chroma_client = chromadb.PersistentClient(path=\"./chroma_db_example\")\n",
    "chroma_collection = chroma_client.get_or_create_collection(\"cloud\")\n",
    "vector_store = ChromaVectorStore(chroma_collection=chroma_collection)\n",
    "storage_context = StorageContext.from_defaults(vector_store=vector_store)"
   ]
  },
  {
   "cell_type": "code",
   "execution_count": 77,
   "id": "07b50f94",
   "metadata": {},
   "outputs": [],
   "source": [
    " # build index\n",
    "lyft_index = VectorStoreIndex.from_vector_store(vector_store, storage_context=storage_context,\n",
    "embed_model=Settings.embed_model)\n",
    "\n",
    "# persist index\n",
    "lyft_index.storage_context.persist(persist_dir=\"./storage/lyft\")\n",
    "# uber_index.storage_context.persist(persist_dir=\"./storage/uber\")\n",
    "\n",
    "lyft_engine = lyft_index.as_query_engine(similarity_top_k=10)"
   ]
  },
  {
   "cell_type": "code",
   "execution_count": 78,
   "id": "401a4db7",
   "metadata": {},
   "outputs": [],
   "source": [
    "from llama_index.core.tools import QueryEngineTool\n",
    "\n",
    "query_engine_tools = [\n",
    "    QueryEngineTool.from_defaults(\n",
    "        query_engine=lyft_engine,\n",
    "        name=\"cloud\",\n",
    "        description=(\n",
    "            \"KT cloud 사용법 설명\"\n",
    "        ),\n",
    "    ),\n",
    "\n",
    "]"
   ]
  },
  {
   "cell_type": "code",
   "execution_count": 79,
   "id": "68e79820",
   "metadata": {},
   "outputs": [],
   "source": [
    "from llama_index.core.agent.workflow import ReActAgent\n",
    "from llama_index.core.workflow import Context\n",
    "\n",
    "agent = ReActAgent(\n",
    "    tools=query_engine_tools,\n",
    "    llm=OpenAI(model=\"gpt-4o-mini\"),\n",
    "    # system_prompt=\"...\"\n",
    ")\n",
    "\n",
    "# context to hold this session/state\n",
    "\n",
    "ctx = Context(agent)"
   ]
  },
  {
   "cell_type": "code",
   "execution_count": 85,
   "id": "62f41bf8",
   "metadata": {},
   "outputs": [
    {
     "name": "stdout",
     "output_type": "stream",
     "text": [
      "Thought: The current language of the user is: Korean. I need to use a tool to help me answer the question.\n",
      "Action: cloud\n",
      "Action Input: {'input': 'KT Cloud Web-UI 접속 방법'}\n",
      "Observation: KT Cloud Web-UI에 접속하기 위해서는 제공된 URL로 접속한 후, ID와 초기 비밀번호를 입력하여 로그인해야 합니다. 로그인 후에는 우측 상단의 사용자 정보 변경 메뉴에서 패스워드를 변경하는 것이 필수입니다.\n",
      "Thought: I can answer without using any more tools. I'll use the user's language to answer.\n",
      "Answer: KT Cloud Web-UI에 접속하기 위해서는 다음 단계를 따르세요:\n",
      "\n",
      "1. 제공된 URL로 접속합니다.\n",
      "2. ID와 초기 비밀번호를 입력하여 로그인합니다.\n",
      "3. 로그인 후, 우측 상단의 사용자 정보 변경 메뉴에서 패스워드를 변경하는 것이 필수입니다.\n",
      "\n",
      "이 과정을 통해 KT Cloud Web-UI에 안전하게 접속할 수 있습니다.\n",
      "Call cloud with {'input': 'KT Cloud Web-UI 접속 방법'}\n",
      "Thought: I can answer without using any more tools. I'll use the user's language to answer.\n",
      "Answer: KT Cloud Web-UI에 접속하려면 제공된 URL로 접속한 후, ID와 초기 비밀번호를 입력하여 로그인합니다. 로그인 후에는 우측 상단의 사용자 정보 변경 메뉴에서 패스워드를 변경하는 것이 필수입니다."
     ]
    }
   ],
   "source": [
    "from llama_index.core.agent.workflow import ToolCallResult, AgentStream, ToolCall\n",
    "\n",
    "handler = agent.run(\"기술지원 사이트 사용법\", ctx=ctx)\n",
    "\n",
    "async for ev in handler.stream_events():\n",
    "    if isinstance(ev, ToolCall):\n",
    "        print(f\"\\nCall {ev.tool_name} with {ev.tool_kwargs}\")\n",
    "    if isinstance(ev, AgentStream):\n",
    "        print(f\"{ev.delta}\", end=\"\", flush=True)\n",
    "\n",
    "response = await handler"
   ]
  },
  {
   "cell_type": "code",
   "execution_count": null,
   "id": "7c1475bd",
   "metadata": {},
   "outputs": [],
   "source": []
  },
  {
   "cell_type": "code",
   "execution_count": null,
   "id": "c84e84bc",
   "metadata": {},
   "outputs": [],
   "source": []
  },
  {
   "cell_type": "code",
   "execution_count": null,
   "id": "3529150b",
   "metadata": {},
   "outputs": [],
   "source": []
  },
  {
   "cell_type": "code",
   "execution_count": null,
   "id": "93bada85",
   "metadata": {},
   "outputs": [],
   "source": []
  },
  {
   "cell_type": "code",
   "execution_count": null,
   "id": "48a89925",
   "metadata": {},
   "outputs": [],
   "source": []
  },
  {
   "cell_type": "code",
   "execution_count": null,
   "id": "41247e96",
   "metadata": {},
   "outputs": [],
   "source": []
  },
  {
   "cell_type": "markdown",
   "id": "371fdeff",
   "metadata": {},
   "source": [
    "### Make testing vector DB"
   ]
  },
  {
   "cell_type": "code",
   "execution_count": 108,
   "id": "8eeed584",
   "metadata": {},
   "outputs": [],
   "source": [
    "from llama_index.core import VectorStoreIndex, SimpleDirectoryReader\n",
    "\n",
    "# Load documents and build index\n",
    "documents = SimpleDirectoryReader(\n",
    "    \"./cloud_data\"\n",
    ").load_data()\n",
    "index = VectorStoreIndex.from_documents(documents)"
   ]
  },
  {
   "cell_type": "code",
   "execution_count": 113,
   "id": "06a71a28",
   "metadata": {},
   "outputs": [],
   "source": [
    "from llama_index.core import (\n",
    "    VectorStoreIndex,\n",
    "    SimpleDirectoryReader,\n",
    "    StorageContext,\n",
    ")\n",
    "from llama_index.vector_stores.chroma import ChromaVectorStore\n",
    "import chromadb\n",
    "\n",
    "# chroma_client = chromadb.EphemeralClient()        ### 휘발성\n",
    "chroma_client = chromadb.PersistentClient(path=\"./chroma_db_example\")\n",
    "chroma_collection = chroma_client.get_or_create_collection(\"cloud\")\n",
    "vector_store = ChromaVectorStore(chroma_collection=chroma_collection)\n",
    "storage_context = StorageContext.from_defaults(vector_store=vector_store)\n",
    "\n",
    "index = VectorStoreIndex.from_documents(\n",
    "    documents, storage_context=storage_context, \n",
    "    transformations=[SentenceSplitter(chunk_size=300, chunk_overlap=10)],\n",
    "    # embed_model=OpenAIEmbedding()\n",
    ")\n"
   ]
  },
  {
   "cell_type": "code",
   "execution_count": 114,
   "id": "0cb408fa",
   "metadata": {},
   "outputs": [
    {
     "name": "stdout",
     "output_type": "stream",
     "text": [
      "NIPA 기술지원 게시판 사용자 메뉴얼 \n",
      "I. KT Cloud Web-UI 접속 방법 \n",
      "A. 제공된 URL 로 접속, ID 및 초기 비밀번호 입력하여 로그인 \n",
      " \n",
      "B. 우측 상단 사용자 정보 변경 메뉴에서 패스워드 변경(필수)\n",
      "NIPA 기술지원 게시판 사용자 메뉴얼 \n",
      "목차 \n",
      " \n",
      "I. KT Cloud Web-UI 접속 방법 \n",
      "II. 게시판 접속 방법 \n",
      "III. 게시판 이용 방법 \n",
      "1. 게시판 홈 \n",
      "2. 공지사항 \n",
      "3. 기술지원\n"
     ]
    }
   ],
   "source": [
    "retriever = index.as_retriever()\n",
    "results = retriever.retrieve(\"KT 클라우드 사용법은?\")\n",
    "\n",
    "for node in results:\n",
    "    print(node.node.get_content())"
   ]
  }
 ],
 "metadata": {
  "kernelspec": {
   "display_name": ".venv",
   "language": "python",
   "name": "python3"
  },
  "language_info": {
   "codemirror_mode": {
    "name": "ipython",
    "version": 3
   },
   "file_extension": ".py",
   "mimetype": "text/x-python",
   "name": "python",
   "nbconvert_exporter": "python",
   "pygments_lexer": "ipython3",
   "version": "3.10.12"
  }
 },
 "nbformat": 4,
 "nbformat_minor": 5
}
