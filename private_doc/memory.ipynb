{
 "cells": [
  {
   "cell_type": "code",
   "execution_count": 6,
   "id": "76667d9e",
   "metadata": {},
   "outputs": [
    {
     "data": {
      "text/plain": [
       "True"
      ]
     },
     "execution_count": 6,
     "metadata": {},
     "output_type": "execute_result"
    }
   ],
   "source": [
    "#### Basic Setting\n",
    "\n",
    "import  load_dotenv\n",
    "load_dotenv.load_dotenv(\"../../All_LLM_tutorial/.env\")"
   ]
  },
  {
   "cell_type": "code",
   "execution_count": 10,
   "id": "1855b0f8",
   "metadata": {},
   "outputs": [],
   "source": [
    "from llama_index.llms.openai import OpenAI\n",
    "from llama_index.embeddings.openai import OpenAIEmbedding\n",
    "from llama_index.core import Settings\n",
    "from llama_index.core import (\n",
    "    VectorStoreIndex,\n",
    "    SimpleDirectoryReader,\n",
    "    StorageContext,\n",
    ")\n",
    "from llama_index.vector_stores.chroma import ChromaVectorStore\n",
    "from llama_index.embeddings.huggingface import HuggingFaceEmbedding\n",
    "import chromadb\n",
    "from llama_index.core.node_parser import SentenceSplitter\n",
    "\n",
    "\n",
    "Settings.llm = OpenAI(model=\"gpt-4o-mini\")\n",
    "Settings.embed_model = HuggingFaceEmbedding(model_name=\"BAAI/bge-m3\")"
   ]
  },
  {
   "cell_type": "code",
   "execution_count": 11,
   "id": "fe61be66",
   "metadata": {},
   "outputs": [],
   "source": [
    "chroma_client = chromadb.PersistentClient(path=\"./chroma_db_example\")\n",
    "chroma_collection = chroma_client.get_or_create_collection(\"cloud\")\n",
    "vector_store = ChromaVectorStore(chroma_collection=chroma_collection)\n",
    "storage_context = StorageContext.from_defaults(vector_store=vector_store)\n",
    "index = VectorStoreIndex.from_vector_store(vector_store, storage_context=storage_context)"
   ]
  },
  {
   "cell_type": "code",
   "execution_count": 14,
   "id": "6e93323e",
   "metadata": {},
   "outputs": [],
   "source": [
    "from llama_index.core.agent.workflow import ReActAgent\n",
    "from llama_index.core.workflow import Context\n",
    "\n",
    "\n",
    "from llama_index.core.tools import QueryEngineTool\n",
    "\n",
    "query_engine_tools = [\n",
    "    QueryEngineTool.from_defaults(\n",
    "        query_engine=index.as_query_engine(),\n",
    "        name=\"cloud\",\n",
    "        description=(\n",
    "            \"KT cloud 사용법 설명\"\n",
    "        ),\n",
    "    ),\n",
    "\n",
    "]\n",
    "\n"
   ]
  },
  {
   "cell_type": "code",
   "execution_count": 15,
   "id": "ba674099",
   "metadata": {},
   "outputs": [],
   "source": [
    "from llama_index.core.agent.workflow import FunctionAgent\n",
    "from llama_index.core.llms import ChatMessage\n",
    "from llama_index.core.memory import Memory\n",
    "\n",
    "\n",
    "memory = Memory.from_defaults(session_id=\"my_session\", token_limit=40000)\n",
    "memory.put_messages(\n",
    "    [\n",
    "        ChatMessage(role=\"user\", content=\"Hello, world!\"),\n",
    "        ChatMessage(role=\"assistant\", content=\"Hello, world to you too!\"),\n",
    "    ]\n",
    ")\n",
    "chat_history = memory.get()\n",
    "\n",
    "agent = FunctionAgent(tools=query_engine_tools)\n",
    "\n",
    "# passing in the chat history overrides any existing memory\n",
    "response = await agent.run(\n",
    "    \"<question that invokes tool>\", chat_history=chat_history\n",
    ")"
   ]
  },
  {
   "cell_type": "code",
   "execution_count": 19,
   "id": "0861a688",
   "metadata": {},
   "outputs": [
    {
     "data": {
      "text/plain": [
       "'It seems like you might want to ask a specific question or invoke a tool. Please provide more details or specify what you need help with!'"
      ]
     },
     "execution_count": 19,
     "metadata": {},
     "output_type": "execute_result"
    }
   ],
   "source": [
    "str(response)"
   ]
  },
  {
   "cell_type": "code",
   "execution_count": 20,
   "id": "a1f654fe",
   "metadata": {},
   "outputs": [
    {
     "data": {
      "text/plain": [
       "AgentOutput(response=ChatMessage(role=<MessageRole.ASSISTANT: 'assistant'>, additional_kwargs={}, blocks=[TextBlock(block_type='text', text='SSH 접속 방법은 다음과 같습니다:\\n\\n1. **SSH/SFTP 앱 실행**: 세션의 컨트롤 열에 있는 App 아이콘을 클릭하여 앱을 실행합니다.\\n2. **세션 정보 확인**: SSH/SFTP 앱을 선택하면 세션을 로컬에서 접근할 수 있는 주소와 예시가 표시됩니다. 이 정보를 활용하여 로컬 파일을 전송할 수 있습니다.\\n3. **SSH 클라이언트 사용**: NOTEPutty와 같은 SSH 클라이언트를 사용하여 외부에서 SSH 프로토콜로 세션에 접속할 수 있습니다.\\n\\n더 자세한 내용은 제공된 링크를 참고하세요. 추가적인 질문이 있으시면 언제든지 말씀해 주세요!')]), tool_calls=[ToolCallResult(tool_name='cloud', tool_kwargs={'input': 'SSH 접속 방법에 대해 설명해 주세요.'}, tool_id='call_Up0PUnizSvRQ5gLjx3OEtdtU', tool_output=ToolOutput(blocks=[TextBlock(block_type='text', text='SSH 접속 방법은 다음과 같습니다. 세션의 컨트롤 열에 있는 App 아이콘을 클릭하여 앱을 실행한 후, SSH/SFTP 앱을 선택합니다. 그러면 세션을 로컬에서 접근할 수 있는 주소와 예시가 표시됩니다. 이 정보를 활용하여 로컬 파일을 전송할 수 있습니다. 또한, NOTEPutty와 같은 툴을 사용하여 외부에서 SSH 프로토콜로 세션에 접속하는 방법에 대한 자세한 내용은 제공된 링크를 참고하면 됩니다.')], tool_name='cloud', raw_input={'input': 'SSH 접속 방법에 대해 설명해 주세요.'}, raw_output=Response(response='SSH 접속 방법은 다음과 같습니다. 세션의 컨트롤 열에 있는 App 아이콘을 클릭하여 앱을 실행한 후, SSH/SFTP 앱을 선택합니다. 그러면 세션을 로컬에서 접근할 수 있는 주소와 예시가 표시됩니다. 이 정보를 활용하여 로컬 파일을 전송할 수 있습니다. 또한, NOTEPutty와 같은 툴을 사용하여 외부에서 SSH 프로토콜로 세션에 접속하는 방법에 대한 자세한 내용은 제공된 링크를 참고하면 됩니다.', source_nodes=[NodeWithScore(node=TextNode(id_='2c7ead7a-efa4-4e38-9068-a8c15dad0ac5', embedding=None, metadata={'page_label': '38', 'file_name': 'KT Cloud NIPA (KO) - User Guide(최종).pdf', 'file_path': '/home/work/enssel_test/yhkim/llamaindex_study/private_doc/cloud_data/KT Cloud NIPA (KO) - User Guide(최종).pdf', 'file_type': 'application/pdf', 'file_size': 2195263, 'creation_date': '2025-07-09', 'last_modified_date': '2025-07-09'}, excluded_embed_metadata_keys=['file_name', 'file_type', 'file_size', 'creation_date', 'last_modified_date', 'last_accessed_date'], excluded_llm_metadata_keys=['file_name', 'file_type', 'file_size', 'creation_date', 'last_modified_date', 'last_accessed_date'], relationships={<NodeRelationship.SOURCE: '1'>: RelatedNodeInfo(node_id='c196a4e4-883d-4e92-92cc-a6cec93b4479', node_type='4', metadata={'page_label': '38', 'file_name': 'KT Cloud NIPA (KO) - User Guide(최종).pdf', 'file_path': '/home/work/enssel_test/yhkim/llamaindex_study/private_doc/cloud_data/KT Cloud NIPA (KO) - User Guide(최종).pdf', 'file_type': 'application/pdf', 'file_size': 2195263, 'creation_date': '2025-07-09', 'last_modified_date': '2025-07-09'}, hash='e7bb76340cc94660bce64f9f10186cdf402f782373a128360eae76a452621d13')}, metadata_template='{key}: {value}', metadata_separator='\\n', text='세션 :세션활용\\n생성된 세션의 컨트롤 열에 있는 App 아이콘을 클릭해 앱을 실행할 수 있습니다.사용하고 있는 환경에 따라 다양한 앱들을 시작할 수 있습니다.\\nSSH/SFTP 앱을 클릭하면 세션을 로컬에서 접근할 수 있는 주소와 예시가 뜹니다. 이를 활용하여 로컬 파일을 쉽게 전송할 수 있습니다.\\nNOTEPutty 와 같은 툴을 사용하여 외부에서 ssh 프로토콜로 세션에 접속하는 방법은 다음 링크에서 참고하십시오:https://webui.docs.backend.ai/ko/latest/sftp_to_container/sftp_to_container.html#ssh-sftp-connection-to-a-compute-session', mimetype='text/plain', start_char_idx=0, end_char_idx=354, metadata_seperator='\\n', text_template='{metadata_str}\\n\\n{content}'), score=0.4599933712099306), NodeWithScore(node=TextNode(id_='4ed8a27d-27d0-4e82-adab-4ef3a99f1061', embedding=None, metadata={'page_label': '18', 'file_name': 'KT Cloud NIPA (KO) - User Guide(최종).pdf', 'file_path': '/home/work/enssel_test/yhkim/llamaindex_study/private_doc/cloud_data/KT Cloud NIPA (KO) - User Guide(최종).pdf', 'file_type': 'application/pdf', 'file_size': 2195263, 'creation_date': '2025-07-09', 'last_modified_date': '2025-07-09'}, excluded_embed_metadata_keys=['file_name', 'file_type', 'file_size', 'creation_date', 'last_modified_date', 'last_accessed_date'], excluded_llm_metadata_keys=['file_name', 'file_type', 'file_size', 'creation_date', 'last_modified_date', 'last_accessed_date'], relationships={<NodeRelationship.SOURCE: '1'>: RelatedNodeInfo(node_id='bf8473bc-aa00-4cf4-a844-c449320bd96d', node_type='4', metadata={'page_label': '18', 'file_name': 'KT Cloud NIPA (KO) - User Guide(최종).pdf', 'file_path': '/home/work/enssel_test/yhkim/llamaindex_study/private_doc/cloud_data/KT Cloud NIPA (KO) - User Guide(최종).pdf', 'file_type': 'application/pdf', 'file_size': 2195263, 'creation_date': '2025-07-09', 'last_modified_date': '2025-07-09'}, hash='01b0ccdc91faff96c36cb751657a13ff63117a8c4e2a17de828f9d240c95df8f')}, metadata_template='{key}: {value}', metadata_separator='\\n', text='저장공간 다루기 :파일 업로드\\nSFTP 세션을 활용하여 대용량 파일 업로드/다운로드 할 경우, Run SFTP Server 버튼을 클릭합니다. 이후 약간의 시간이 지나면 SFTP 서버에 접속할 수 있는 SSH 키 정보와 명령어를 확인할 수 있는 창이 띄워집니다. 해당 창의 내용을 참고하여 파일 업로드/다운로드가 가능합니다. 단, SFTP 세션 역시 세션이기 때문에, 세션에 할당할 수 있는 최소한의 여유 자원이 없는 경우(세션 개수 포함)는 SFTP 대용량 서버를 활용한 업로드/다운로드가 불가합니다.', mimetype='text/plain', start_char_idx=0, end_char_idx=281, metadata_seperator='\\n', text_template='{metadata_str}\\n\\n{content}'), score=0.430139813006739)], metadata={'2c7ead7a-efa4-4e38-9068-a8c15dad0ac5': {'page_label': '38', 'file_name': 'KT Cloud NIPA (KO) - User Guide(최종).pdf', 'file_path': '/home/work/enssel_test/yhkim/llamaindex_study/private_doc/cloud_data/KT Cloud NIPA (KO) - User Guide(최종).pdf', 'file_type': 'application/pdf', 'file_size': 2195263, 'creation_date': '2025-07-09', 'last_modified_date': '2025-07-09'}, '4ed8a27d-27d0-4e82-adab-4ef3a99f1061': {'page_label': '18', 'file_name': 'KT Cloud NIPA (KO) - User Guide(최종).pdf', 'file_path': '/home/work/enssel_test/yhkim/llamaindex_study/private_doc/cloud_data/KT Cloud NIPA (KO) - User Guide(최종).pdf', 'file_type': 'application/pdf', 'file_size': 2195263, 'creation_date': '2025-07-09', 'last_modified_date': '2025-07-09'}}), is_error=False), return_direct=False)], raw={'id': 'chatcmpl-BrIaXL6BOltXAlQ9ije9bCMa6yzyx', 'choices': [{'delta': {'content': None, 'function_call': None, 'refusal': None, 'role': None, 'tool_calls': None}, 'finish_reason': 'stop', 'index': 0, 'logprobs': None}], 'created': 1752042537, 'model': 'gpt-4o-mini-2024-07-18', 'object': 'chat.completion.chunk', 'service_tier': 'default', 'system_fingerprint': 'fp_34a54ae93c', 'usage': None}, current_agent_name='Agent')"
      ]
     },
     "execution_count": 20,
     "metadata": {},
     "output_type": "execute_result"
    }
   ],
   "source": [
    "await agent.run(\n",
    "    \"SSH 접속 방법\", chat_history=chat_history\n",
    ")"
   ]
  },
  {
   "cell_type": "code",
   "execution_count": 22,
   "id": "e5118802",
   "metadata": {},
   "outputs": [],
   "source": [
    "from llama_index.core.workflow import Context\n",
    "\n",
    "ctx = Context(agent)\n",
    "\n",
    "response = await agent.run(\"SSH 접속방법은?\", ctx=ctx)\n",
    "\n",
    "# get the memory\n",
    "memory = await ctx.store.get(\"memory\")\n",
    "chat_history = memory.get()"
   ]
  },
  {
   "cell_type": "code",
   "execution_count": 35,
   "id": "2f5e89de",
   "metadata": {},
   "outputs": [],
   "source": [
    "memory = Memory.from_defaults(\n",
    "    session_id=\"my_session\",\n",
    "    token_limit=40000,\n",
    "    chat_history_token_ratio=0.7,\n",
    "    token_flush_size=3000,\n",
    "    # async_database_uri=\"sqlite:///memory.db\"\n",
    "    # 장기 메모리 관리하려면 sqlalchemy\n",
    ")"
   ]
  },
  {
   "cell_type": "code",
   "execution_count": 36,
   "id": "5b0007b6",
   "metadata": {},
   "outputs": [],
   "source": [
    "response = await agent.run(\"Hello!\", memory=memory)"
   ]
  },
  {
   "cell_type": "code",
   "execution_count": null,
   "id": "a44ec873",
   "metadata": {},
   "outputs": [],
   "source": []
  },
  {
   "cell_type": "code",
   "execution_count": null,
   "id": "0bc45333",
   "metadata": {},
   "outputs": [],
   "source": []
  },
  {
   "cell_type": "code",
   "execution_count": null,
   "id": "310b98ce",
   "metadata": {},
   "outputs": [],
   "source": []
  }
 ],
 "metadata": {
  "kernelspec": {
   "display_name": ".venv",
   "language": "python",
   "name": "python3"
  },
  "language_info": {
   "codemirror_mode": {
    "name": "ipython",
    "version": 3
   },
   "file_extension": ".py",
   "mimetype": "text/x-python",
   "name": "python",
   "nbconvert_exporter": "python",
   "pygments_lexer": "ipython3",
   "version": "3.10.12"
  }
 },
 "nbformat": 4,
 "nbformat_minor": 5
}
