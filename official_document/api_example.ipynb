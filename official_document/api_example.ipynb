{
 "cells": [
  {
   "cell_type": "code",
   "execution_count": 8,
   "id": "3b91dcd5",
   "metadata": {},
   "outputs": [
    {
     "data": {
      "text/plain": [
       "True"
      ]
     },
     "execution_count": 8,
     "metadata": {},
     "output_type": "execute_result"
    }
   ],
   "source": [
    "import asyncio\n",
    "from llama_index.core.agent.workflow import FunctionAgent\n",
    "from llama_index.llms.openai import OpenAI\n",
    "\n",
    "import  load_dotenv\n",
    "load_dotenv.load_dotenv(\"../../.env\")"
   ]
  },
  {
   "cell_type": "code",
   "execution_count": 9,
   "id": "fc204ca4",
   "metadata": {},
   "outputs": [],
   "source": [
    "\n",
    "# Define a simple calculator tool\n",
    "def multiply(a: float, b: float) -> float:\n",
    "    \"\"\"Useful for multiplying two numbers.\"\"\"\n",
    "    return a * b\n",
    "\n",
    "\n",
    "# Create an agent workflow with our calculator tool\n",
    "agent = FunctionAgent(\n",
    "    tools=[multiply],\n",
    "    llm=OpenAI(model=\"gpt-4o-mini\"),\n",
    "    system_prompt=\"You are a helpful assistant that can multiply two numbers.\",\n",
    ")"
   ]
  },
  {
   "cell_type": "code",
   "execution_count": 10,
   "id": "5519f049",
   "metadata": {},
   "outputs": [
    {
     "name": "stdout",
     "output_type": "stream",
     "text": [
      "The result of \\( 1234 \\times 4567 \\) is 5,635,678.\n"
     ]
    }
   ],
   "source": [
    "# Run the agent\n",
    "response = await agent.run(\"What is 1234 * 4567?\")\n",
    "print(str(response))"
   ]
  },
  {
   "cell_type": "code",
   "execution_count": 11,
   "id": "771fc6bd",
   "metadata": {},
   "outputs": [
    {
     "data": {
      "text/plain": [
       "{'response': ChatMessage(role=<MessageRole.ASSISTANT: 'assistant'>, additional_kwargs={}, blocks=[TextBlock(block_type='text', text='The result of \\\\( 1234 \\\\times 4567 \\\\) is 5,635,678.')]),\n",
       " 'tool_calls': [ToolCallResult(tool_name='multiply', tool_kwargs={'a': 1234, 'b': 4567}, tool_id='call_kLPw1kbTvYhxnQDaYa2l6Ynp', tool_output=ToolOutput(blocks=[TextBlock(block_type='text', text='5635678')], tool_name='multiply', raw_input={'args': (), 'kwargs': {'a': 1234, 'b': 4567}}, raw_output=5635678, is_error=False), return_direct=False)],\n",
       " 'raw': {'id': 'chatcmpl-BpQCMFVm2kiQQ84BMoKNeBktfnInK',\n",
       "  'choices': [{'delta': {'content': None,\n",
       "     'function_call': None,\n",
       "     'refusal': None,\n",
       "     'role': None,\n",
       "     'tool_calls': None},\n",
       "    'finish_reason': 'stop',\n",
       "    'index': 0,\n",
       "    'logprobs': None}],\n",
       "  'created': 1751595134,\n",
       "  'model': 'gpt-4o-mini-2024-07-18',\n",
       "  'object': 'chat.completion.chunk',\n",
       "  'service_tier': 'default',\n",
       "  'system_fingerprint': 'fp_34a54ae93c',\n",
       "  'usage': None},\n",
       " 'current_agent_name': 'Agent'}"
      ]
     },
     "execution_count": 11,
     "metadata": {},
     "output_type": "execute_result"
    }
   ],
   "source": [
    "response.__dict__"
   ]
  },
  {
   "cell_type": "code",
   "execution_count": 29,
   "id": "f3d7267f",
   "metadata": {},
   "outputs": [
    {
     "name": "stdout",
     "output_type": "stream",
     "text": [
      "비 오는 날에는 따뜻한 음료를 마시거나, 집에서 편안하게 시간을 보내는 것이 좋습니다. 혹시 특별히 하고 싶은 활동이나 계획이 있으신가요?\n",
      ">>>>>>>>>>>>>>>>>>>>>>>>>>>>>>>>>>>>>>>>>>>>>>>>>>>>>>>>>>>>>>>>>>>>>>>>>>>>>>>>>>>>>>>>>>>>>>>>>>>>>>>>>>>>>>>>>>>>>>>>>>>>>>>>>>>>>>>>>>>>>>>>>>>>>>\n",
      "비 오는 날에는 따뜻하고 편안한 음식을 추천합니다. 다음과 같은 음식들을 고려해 보세요:\n",
      "\n",
      "1. **뜨끈한 국물 요리**: \n",
      "   - **김치찌개**: 매콤하고 뜨거운 국물로 속을 따뜻하게 해줍니다.\n",
      "   - **된장찌개**: 구수한 맛이 일품인 된장찌개도 좋습니다.\n",
      "\n",
      "2. **전골**: \n",
      "   - **버섯 전골**이나 **해물 전골**은 다양한 재료와 국물이 어우러져 맛있습니다.\n",
      "\n",
      "3. **찜 요리**: \n",
      "   - **갈비찜**이나 **닭찜**은 부드럽고 풍미가 가득해 비 오는 날에 잘 어울립니다.\n",
      "\n",
      "4. **뜨거운 면 요리**: \n",
      "   - **라면**이나 **우동** 같은 뜨거운 면 요리도 간편하면서 맛있습니다.\n",
      "\n",
      "5. **디저트**: \n",
      "   - **따뜻한 초콜릿**이나 **찐빵** 같은 달콤한 간식도 좋습니다.\n",
      "\n",
      "이 중에서 마음에 드는 음식을 선택해 보세요!\n"
     ]
    }
   ],
   "source": [
    "from llama_index.core.workflow import Context\n",
    "\n",
    "# create context\n",
    "ctx = Context(agent)\n",
    "\n",
    "# run agent with context\n",
    "response = await agent.run(\"오늘 비가 오는데\", ctx=ctx)\n",
    "print(str(response))\n",
    "print(\">>>\"*50)\n",
    "response = await agent.run(\"오늘 음식 추천 좀\", ctx=ctx)\n",
    "print(str(response))\n",
    "\n",
    "### 음 뭔가 UUID기반 동작일텐데\n",
    "### 정확히 감은 안잡힌다 그냥 async cache감성 같기도?"
   ]
  },
  {
   "cell_type": "code",
   "execution_count": 31,
   "id": "641e0e00",
   "metadata": {},
   "outputs": [
    {
     "data": {
      "text/plain": [
       "['{\"__is_pydantic\": true, \"value\": {\"user_msg\": \"\\\\uc624\\\\ub298 \\\\ube44\\\\uac00 \\\\uc624\\\\ub294\\\\ub370\", \"chat_history\": null}, \"qualified_name\": \"llama_index.core.agent.workflow.workflow_events.AgentWorkflowStartEvent\"}',\n",
       " '{\"__is_pydantic\": true, \"value\": {\"input\": [{\"role\": \"user\", \"additional_kwargs\": {}, \"blocks\": [{\"block_type\": \"text\", \"text\": \"\\\\uc624\\\\ub298 \\\\ube44\\\\uac00 \\\\uc624\\\\ub294\\\\ub370\"}]}], \"current_agent_name\": \"Agent\"}, \"qualified_name\": \"llama_index.core.agent.workflow.workflow_events.AgentInput\"}',\n",
       " '{\"__is_pydantic\": true, \"value\": {\"input\": [{\"role\": \"system\", \"additional_kwargs\": {}, \"blocks\": [{\"block_type\": \"text\", \"text\": \"You are a helpful assistant that can multiply two numbers.\"}]}, {\"role\": \"user\", \"additional_kwargs\": {}, \"blocks\": [{\"block_type\": \"text\", \"text\": \"\\\\uc624\\\\ub298 \\\\ube44\\\\uac00 \\\\uc624\\\\ub294\\\\ub370\"}]}], \"current_agent_name\": \"Agent\"}, \"qualified_name\": \"llama_index.core.agent.workflow.workflow_events.AgentSetup\"}',\n",
       " '{\"__is_pydantic\": true, \"value\": {\"response\": {\"role\": \"assistant\", \"additional_kwargs\": {}, \"blocks\": [{\"block_type\": \"text\", \"text\": \"\\\\ube44 \\\\uc624\\\\ub294 \\\\ub0a0\\\\uc5d0\\\\ub294 \\\\ub530\\\\ub73b\\\\ud55c \\\\uc74c\\\\ub8cc\\\\ub97c \\\\ub9c8\\\\uc2dc\\\\uac70\\\\ub098, \\\\uc9d1\\\\uc5d0\\\\uc11c \\\\ud3b8\\\\uc548\\\\ud558\\\\uac8c \\\\uc2dc\\\\uac04\\\\uc744 \\\\ubcf4\\\\ub0b4\\\\ub294 \\\\uac83\\\\uc774 \\\\uc88b\\\\uc2b5\\\\ub2c8\\\\ub2e4. \\\\ud639\\\\uc2dc \\\\ud2b9\\\\ubcc4\\\\ud788 \\\\ud558\\\\uace0 \\\\uc2f6\\\\uc740 \\\\ud65c\\\\ub3d9\\\\uc774\\\\ub098 \\\\uacc4\\\\ud68d\\\\uc774 \\\\uc788\\\\uc73c\\\\uc2e0\\\\uac00\\\\uc694?\"}]}, \"tool_calls\": [], \"raw\": {\"id\": \"chatcmpl-BpQTHlPUc7Xq5uExXgfNNBAJzBmkm\", \"choices\": [{\"delta\": {\"content\": null, \"function_call\": null, \"refusal\": null, \"role\": null, \"tool_calls\": null}, \"finish_reason\": \"stop\", \"index\": 0, \"logprobs\": null}], \"created\": 1751596183, \"model\": \"gpt-4o-mini-2024-07-18\", \"object\": \"chat.completion.chunk\", \"service_tier\": \"default\", \"system_fingerprint\": \"fp_34a54ae93c\", \"usage\": null}, \"current_agent_name\": \"Agent\"}, \"qualified_name\": \"llama_index.core.agent.workflow.workflow_events.AgentOutput\"}',\n",
       " '{\"__is_pydantic\": true, \"value\": {}, \"qualified_name\": \"workflows.events.StopEvent\"}',\n",
       " '{\"__is_pydantic\": true, \"value\": {\"user_msg\": \"\\\\uc624\\\\ub298 \\\\uc74c\\\\uc2dd \\\\ucd94\\\\ucc9c \\\\uc880\", \"chat_history\": null}, \"qualified_name\": \"llama_index.core.agent.workflow.workflow_events.AgentWorkflowStartEvent\"}',\n",
       " '{\"__is_pydantic\": true, \"value\": {\"input\": [{\"role\": \"user\", \"additional_kwargs\": {}, \"blocks\": [{\"block_type\": \"text\", \"text\": \"\\\\uc624\\\\ub298 \\\\ube44\\\\uac00 \\\\uc624\\\\ub294\\\\ub370\"}]}, {\"role\": \"assistant\", \"additional_kwargs\": {}, \"blocks\": [{\"block_type\": \"text\", \"text\": \"\\\\ube44 \\\\uc624\\\\ub294 \\\\ub0a0\\\\uc5d0\\\\ub294 \\\\ub530\\\\ub73b\\\\ud55c \\\\uc74c\\\\ub8cc\\\\ub97c \\\\ub9c8\\\\uc2dc\\\\uac70\\\\ub098, \\\\uc9d1\\\\uc5d0\\\\uc11c \\\\ud3b8\\\\uc548\\\\ud558\\\\uac8c \\\\uc2dc\\\\uac04\\\\uc744 \\\\ubcf4\\\\ub0b4\\\\ub294 \\\\uac83\\\\uc774 \\\\uc88b\\\\uc2b5\\\\ub2c8\\\\ub2e4. \\\\ud639\\\\uc2dc \\\\ud2b9\\\\ubcc4\\\\ud788 \\\\ud558\\\\uace0 \\\\uc2f6\\\\uc740 \\\\ud65c\\\\ub3d9\\\\uc774\\\\ub098 \\\\uacc4\\\\ud68d\\\\uc774 \\\\uc788\\\\uc73c\\\\uc2e0\\\\uac00\\\\uc694?\"}]}, {\"role\": \"user\", \"additional_kwargs\": {}, \"blocks\": [{\"block_type\": \"text\", \"text\": \"\\\\uc624\\\\ub298 \\\\uc74c\\\\uc2dd \\\\ucd94\\\\ucc9c \\\\uc880\"}]}], \"current_agent_name\": \"Agent\"}, \"qualified_name\": \"llama_index.core.agent.workflow.workflow_events.AgentInput\"}',\n",
       " '{\"__is_pydantic\": true, \"value\": {\"input\": [{\"role\": \"system\", \"additional_kwargs\": {}, \"blocks\": [{\"block_type\": \"text\", \"text\": \"You are a helpful assistant that can multiply two numbers.\"}]}, {\"role\": \"user\", \"additional_kwargs\": {}, \"blocks\": [{\"block_type\": \"text\", \"text\": \"\\\\uc624\\\\ub298 \\\\ube44\\\\uac00 \\\\uc624\\\\ub294\\\\ub370\"}]}, {\"role\": \"assistant\", \"additional_kwargs\": {}, \"blocks\": [{\"block_type\": \"text\", \"text\": \"\\\\ube44 \\\\uc624\\\\ub294 \\\\ub0a0\\\\uc5d0\\\\ub294 \\\\ub530\\\\ub73b\\\\ud55c \\\\uc74c\\\\ub8cc\\\\ub97c \\\\ub9c8\\\\uc2dc\\\\uac70\\\\ub098, \\\\uc9d1\\\\uc5d0\\\\uc11c \\\\ud3b8\\\\uc548\\\\ud558\\\\uac8c \\\\uc2dc\\\\uac04\\\\uc744 \\\\ubcf4\\\\ub0b4\\\\ub294 \\\\uac83\\\\uc774 \\\\uc88b\\\\uc2b5\\\\ub2c8\\\\ub2e4. \\\\ud639\\\\uc2dc \\\\ud2b9\\\\ubcc4\\\\ud788 \\\\ud558\\\\uace0 \\\\uc2f6\\\\uc740 \\\\ud65c\\\\ub3d9\\\\uc774\\\\ub098 \\\\uacc4\\\\ud68d\\\\uc774 \\\\uc788\\\\uc73c\\\\uc2e0\\\\uac00\\\\uc694?\"}]}, {\"role\": \"user\", \"additional_kwargs\": {}, \"blocks\": [{\"block_type\": \"text\", \"text\": \"\\\\uc624\\\\ub298 \\\\uc74c\\\\uc2dd \\\\ucd94\\\\ucc9c \\\\uc880\"}]}], \"current_agent_name\": \"Agent\"}, \"qualified_name\": \"llama_index.core.agent.workflow.workflow_events.AgentSetup\"}',\n",
       " '{\"__is_pydantic\": true, \"value\": {\"response\": {\"role\": \"assistant\", \"additional_kwargs\": {}, \"blocks\": [{\"block_type\": \"text\", \"text\": \"\\\\ube44 \\\\uc624\\\\ub294 \\\\ub0a0\\\\uc5d0\\\\ub294 \\\\ub530\\\\ub73b\\\\ud558\\\\uace0 \\\\ud3b8\\\\uc548\\\\ud55c \\\\uc74c\\\\uc2dd\\\\uc744 \\\\ucd94\\\\ucc9c\\\\ud569\\\\ub2c8\\\\ub2e4. \\\\ub2e4\\\\uc74c\\\\uacfc \\\\uac19\\\\uc740 \\\\uc74c\\\\uc2dd\\\\ub4e4\\\\uc744 \\\\uace0\\\\ub824\\\\ud574 \\\\ubcf4\\\\uc138\\\\uc694:\\\\n\\\\n1. **\\\\ub728\\\\ub048\\\\ud55c \\\\uad6d\\\\ubb3c \\\\uc694\\\\ub9ac**: \\\\n   - **\\\\uae40\\\\uce58\\\\ucc0c\\\\uac1c**: \\\\ub9e4\\\\ucf64\\\\ud558\\\\uace0 \\\\ub728\\\\uac70\\\\uc6b4 \\\\uad6d\\\\ubb3c\\\\ub85c \\\\uc18d\\\\uc744 \\\\ub530\\\\ub73b\\\\ud558\\\\uac8c \\\\ud574\\\\uc90d\\\\ub2c8\\\\ub2e4.\\\\n   - **\\\\ub41c\\\\uc7a5\\\\ucc0c\\\\uac1c**: \\\\uad6c\\\\uc218\\\\ud55c \\\\ub9db\\\\uc774 \\\\uc77c\\\\ud488\\\\uc778 \\\\ub41c\\\\uc7a5\\\\ucc0c\\\\uac1c\\\\ub3c4 \\\\uc88b\\\\uc2b5\\\\ub2c8\\\\ub2e4.\\\\n\\\\n2. **\\\\uc804\\\\uace8**: \\\\n   - **\\\\ubc84\\\\uc12f \\\\uc804\\\\uace8**\\\\uc774\\\\ub098 **\\\\ud574\\\\ubb3c \\\\uc804\\\\uace8**\\\\uc740 \\\\ub2e4\\\\uc591\\\\ud55c \\\\uc7ac\\\\ub8cc\\\\uc640 \\\\uad6d\\\\ubb3c\\\\uc774 \\\\uc5b4\\\\uc6b0\\\\ub7ec\\\\uc838 \\\\ub9db\\\\uc788\\\\uc2b5\\\\ub2c8\\\\ub2e4.\\\\n\\\\n3. **\\\\ucc1c \\\\uc694\\\\ub9ac**: \\\\n   - **\\\\uac08\\\\ube44\\\\ucc1c**\\\\uc774\\\\ub098 **\\\\ub2ed\\\\ucc1c**\\\\uc740 \\\\ubd80\\\\ub4dc\\\\ub7fd\\\\uace0 \\\\ud48d\\\\ubbf8\\\\uac00 \\\\uac00\\\\ub4dd\\\\ud574 \\\\ube44 \\\\uc624\\\\ub294 \\\\ub0a0\\\\uc5d0 \\\\uc798 \\\\uc5b4\\\\uc6b8\\\\ub9bd\\\\ub2c8\\\\ub2e4.\\\\n\\\\n4. **\\\\ub728\\\\uac70\\\\uc6b4 \\\\uba74 \\\\uc694\\\\ub9ac**: \\\\n   - **\\\\ub77c\\\\uba74**\\\\uc774\\\\ub098 **\\\\uc6b0\\\\ub3d9** \\\\uac19\\\\uc740 \\\\ub728\\\\uac70\\\\uc6b4 \\\\uba74 \\\\uc694\\\\ub9ac\\\\ub3c4 \\\\uac04\\\\ud3b8\\\\ud558\\\\uba74\\\\uc11c \\\\ub9db\\\\uc788\\\\uc2b5\\\\ub2c8\\\\ub2e4.\\\\n\\\\n5. **\\\\ub514\\\\uc800\\\\ud2b8**: \\\\n   - **\\\\ub530\\\\ub73b\\\\ud55c \\\\ucd08\\\\ucf5c\\\\ub9bf**\\\\uc774\\\\ub098 **\\\\ucc10\\\\ube75** \\\\uac19\\\\uc740 \\\\ub2ec\\\\ucf64\\\\ud55c \\\\uac04\\\\uc2dd\\\\ub3c4 \\\\uc88b\\\\uc2b5\\\\ub2c8\\\\ub2e4.\\\\n\\\\n\\\\uc774 \\\\uc911\\\\uc5d0\\\\uc11c \\\\ub9c8\\\\uc74c\\\\uc5d0 \\\\ub4dc\\\\ub294 \\\\uc74c\\\\uc2dd\\\\uc744 \\\\uc120\\\\ud0dd\\\\ud574 \\\\ubcf4\\\\uc138\\\\uc694!\"}]}, \"tool_calls\": [], \"raw\": {\"id\": \"chatcmpl-BpQTIJi2rI9V1zIN2jVsNls6YH1yP\", \"choices\": [{\"delta\": {\"content\": null, \"function_call\": null, \"refusal\": null, \"role\": null, \"tool_calls\": null}, \"finish_reason\": \"stop\", \"index\": 0, \"logprobs\": null}], \"created\": 1751596184, \"model\": \"gpt-4o-mini-2024-07-18\", \"object\": \"chat.completion.chunk\", \"service_tier\": \"default\", \"system_fingerprint\": \"fp_34a54ae93c\", \"usage\": null}, \"current_agent_name\": \"Agent\"}, \"qualified_name\": \"llama_index.core.agent.workflow.workflow_events.AgentOutput\"}',\n",
       " '{\"__is_pydantic\": true, \"value\": {}, \"qualified_name\": \"workflows.events.StopEvent\"}']"
      ]
     },
     "execution_count": 31,
     "metadata": {},
     "output_type": "execute_result"
    }
   ],
   "source": [
    "ctx.to_dict()[\"broker_log\"]\n",
    "#안에 요렇게 되있음, unicode 형태\n",
    "# [\n",
    "#   {\"__is_pydantic\": true, \"value\": {\"user_msg\": \"오늘 비가 오는데\", \"chat_history\": null}, \"qualified_name\": \"llama_index.core.agent.workflow.workflow_events.AgentWorkflowStartEvent\"},\n",
    "#   {\"__is_pydantic\": true, \"value\": {\"input\": [{\"role\": \"user\", \"additional_kwargs\": {}, \"blocks\": [{\"block_type\": \"text\", \"text\": \"오늘 비가 오는데\"}]}], \"current_agent_name\": \"Agent\"}, \"qualified_name\": \"llama_index.core.agent.workflow.workflow_events.AgentInput\"},\n",
    "#   {\"__is_pydantic\": true, \"value\": {\"input\": [{\"role\": \"system\", \"additional_kwargs\": {}, \"blocks\": [{\"block_type\": \"text\", \"text\": \"You are a helpful assistant that can multiply two numbers.\"}]}, {\"role\": \"user\", \"additional_kwargs\": {}, \"blocks\": [{\"block_type\": \"text\", \"text\": \"오늘 비가 오는데\"}]}], \"current_agent_name\": \"Agent\"}, \"qualified_name\": \"llama_index.core.agent.workflow.workflow_events.AgentSetup\"},\n",
    "#   {\"__is_pydantic\": true, \"value\": {\"response\": {\"role\": \"assistant\", \"additional_kwargs\": {}, \"blocks\": [{\"block_type\": \"text\", \"text\": \"비 오는 날에는 따뜻한 음료를 마시거나, 집에서 편안하게 시간을 보내는 것이 좋습니다. 혹시 특별히 하고 싶은 활동이나 계획이 있으신가요?\"}]}, \"tool_calls\": [], \"raw\": {\"id\": \"chatcmpl-BpQTHlPUc7Xq5uExXgfNNBAJzBmkm\", \"choices\": [{\"delta\": {\"content\": null, \"function_call\": null, \"refusal\": null, \"role\": null, \"tool_calls\": null}, \"finish_reason\": \"stop\", \"index\": 0, \"logprobs\": null}], \"created\": 1751596183, \"model\": \"gpt-4o-mini-2024-07-18\", \"object\": \"chat.completion.chunk\", \"service_tier\": \"default\", \"system_fingerprint\": \"fp_34a54ae93c\", \"usage\": null}, \"current_agent_name\": \"Agent\"}, \"qualified_name\": \"llama_index.core.agent.workflow.workflow_events.AgentOutput\"},\n",
    "#   {\"__is_pydantic\": true, \"value\": {}, \"qualified_name\": \"workflows.events.StopEvent\"},\n",
    "#   {\"__is_pydantic\": true, \"value\": {\"user_msg\": \"오늘 음식 추천 좀\", \"chat_history\": null}, \"qualified_name\": \"llama_index.core.agent.workflow.workflow_events.AgentWorkflowStartEvent\"},\n",
    "#   {\"__is_pydantic\": true, \"value\": {\"input\": [{\"role\": \"user\", \"additional_kwargs\": {}, \"blocks\": [{\"block_type\": \"text\", \"text\": \"오늘 비가 오는데\"}]}, {\"role\": \"assistant\", \"additional_kwargs\": {}, \"blocks\": [{\"block_type\": \"text\", \"text\": \"비 오는 날에는 따뜻한 음료를 마시거나, 집에서 편안하게 시간을 보내는 것이 좋습니다. 혹시 특별히 하고 싶은 활동이나 계획이 있으신가요?\"}]}, {\"role\": \"user\", \"additional_kwargs\": {}, \"blocks\": [{\"block_type\": \"text\", \"text\": \"오늘 음식 추천 좀\"}]}], \"current_agent_name\": \"Agent\"}, \"qualified_name\": \"llama_index.core.agent.workflow.workflow_events.AgentInput\"},\n",
    "#   {\"__is_pydantic\": true, \"value\": {\"input\": [{\"role\": \"system\", \"additional_kwargs\": {}, \"blocks\": [{\"block_type\": \"text\", \"text\": \"You are a helpful assistant that can multiply two numbers.\"}]}, {\"role\": \"user\", \"additional_kwargs\": {}, \"blocks\": [{\"block_type\": \"text\", \"text\": \"오늘 비가 오는데\"}]}, {\"role\": \"assistant\", \"additional_kwargs\": {}, \"blocks\": [{\"block_type\": \"text\", \"text\": \"비 오는 날에는 따뜻한 음료를 마시거나, 집에서 편안하게 시간을 보내는 것이 좋습니다. 혹시 특별히 하고 싶은 활동이나 계획이 있으신가요?\"}]}, {\"role\": \"user\", \"additional_kwargs\": {}, \"blocks\": [{\"block_type\": \"text\", \"text\": \"오늘 음식 추천 좀\"}]}], \"current_agent_name\": \"Agent\"}, \"qualified_name\": \"llama_index.core.agent.workflow.workflow_events.AgentSetup\"},\n",
    "#   {\"__is_pydantic\": true, \"value\": {\"response\": {\"role\": \"assistant\", \"additional_kwargs\": {}, \"blocks\": [{\"block_type\": \"text\", \"text\": \"비 오는 날에는 따뜻하고 편안한 음식을 추천합니다. 다음과 같은 음식들을 고려해 보세요:\\n\\n1. **따뜻한 국물 요리**: \\n   - **김치찌개**: 매콤하고 따끈한 국물로 속을 따뜻하게 해줍니다.\\n   - **된장찌개**: 구수한 맛이 일품인 된장찌개도 좋습니다.\\n\\n2. **전골**: \\n   - **버섯 전골**이나 **해물 전골**은 다양한 재료와 국물이 어우러져 맛있습니다.\\n\\n3. **찜 요리**: \\n   - **갈비찜**이나 **닭찜**은 부드럽고 풍미가 가득해 비 오는 날에 잘 어울립니다.\\n\\n4. **따거운 면 요리**: \\n   - **라면**이나 **우동** 같은 따거운 면 요리도 간편하면서 맛있습니다.\\n\\n5. **디저트**: \\n   - **따뜻한 초콜릿**이나 **찐빵** 같은 달콤한 간식도 좋습니다.\\n\\n이 중에서 마음에 드는 음식을 선택해 보세요!\"}]}, \"tool_calls\": [], \"raw\": {\"id\": \"chatcmpl-BpQTIJi2rI9V1zIN2jVsNls6YH1yP\", \"choices\": [{\"delta\": {\"content\": null, \"function_call\": null, \"refusal\": null, \"role\": null, \"tool_calls\": null}, \"finish_reason\": \"stop\", \"index\": 0, \"logprobs\": null}], \"created\": 1751596184, \"model\": \"gpt-4o-mini-2024-07-18\", \"object\": \"chat.completion.chunk\", \"service_tier\": \"default\", \"system_fingerprint\": \"fp_34a54ae93c\", \"usage\": null}, \"current_agent_name\": \"Agent\"}, \"qualified_name\": \"llama_index.core.agent.workflow.workflow_events.AgentOutput\"},\n",
    "#   {\"__is_pydantic\": true, \"value\": {}, \"qualified_name\": \"workflows.events.StopEvent\"}\n",
    "# ]"
   ]
  },
  {
   "cell_type": "code",
   "execution_count": 32,
   "id": "082414f9",
   "metadata": {},
   "outputs": [],
   "source": [
    "from llama_index.core import VectorStoreIndex, SimpleDirectoryReader\n",
    "from llama_index.core.agent.workflow import FunctionAgent\n",
    "from llama_index.llms.openai import OpenAI\n",
    "import asyncio\n",
    "import os\n",
    "\n",
    "# Create a RAG tool using LlamaIndex\n",
    "documents = SimpleDirectoryReader(\"data\").load_data()\n",
    "index = VectorStoreIndex.from_documents(documents)\n",
    "query_engine = index.as_query_engine()\n",
    "\n",
    "\n",
    "def multiply(a: float, b: float) -> float:\n",
    "    \"\"\"Useful for multiplying two numbers.\"\"\"\n",
    "    return a * b\n",
    "\n",
    "\n",
    "async def search_documents(query: str) -> str:\n",
    "    \"\"\"Useful for answering natural language questions about an personal essay written by Paul Graham.\"\"\"\n",
    "    response = await query_engine.aquery(query)\n",
    "    return str(response)\n",
    "\n",
    "\n",
    "# Create an enhanced workflow with both tools\n",
    "agent = FunctionAgent(\n",
    "    tools=[multiply, search_documents],\n",
    "    llm=OpenAI(model=\"gpt-4o-mini\"),\n",
    "    system_prompt=\"\"\"You are a helpful assistant that can perform calculations\n",
    "    and search through documents to answer questions.\"\"\",\n",
    ")"
   ]
  },
  {
   "cell_type": "code",
   "execution_count": 34,
   "id": "414c2e25",
   "metadata": {},
   "outputs": [
    {
     "name": "stdout",
     "output_type": "stream",
     "text": [
      "저자는 대학에서 주로 프로그래밍과 관련된 일을 했습니다. 그는 대학 시절에 IBM 1401에서 프로그래밍을 하였고, TRS-80 컴퓨터를 이용하여 다양한 프로그램을 만들었습니다. 또한, 여러 로봇의 비행 코드도 작성하는 등의 활동을 했습니다.\n",
      "\n",
      "그리고 7 * 8은 56입니다.\n"
     ]
    }
   ],
   "source": [
    "# Now we can ask questions about the documents or do calculations\n",
    "response = await agent.run(\n",
    "    \"저자는 대학에서 어떤일을 했어? 그리고 7 * 8은 뭐야?\"\n",
    ")\n",
    "print(response)"
   ]
  },
  {
   "cell_type": "code",
   "execution_count": 37,
   "id": "477aed12",
   "metadata": {},
   "outputs": [
    {
     "name": "stdout",
     "output_type": "stream",
     "text": [
      "Loading llama_index.core.storage.kvstore.simple_kvstore from storage/docstore.json.\n",
      "Loading llama_index.core.storage.kvstore.simple_kvstore from storage/index_store.json.\n"
     ]
    }
   ],
   "source": [
    "# Save the index\n",
    "index.storage_context.persist(\"storage\")\n",
    "\n",
    "# Later, load the index\n",
    "from llama_index.core import StorageContext, load_index_from_storage\n",
    "\n",
    "storage_context = StorageContext.from_defaults(persist_dir=\"storage\")\n",
    "index = load_index_from_storage(storage_context)\n",
    "query_engine = index.as_query_engine()"
   ]
  },
  {
   "cell_type": "code",
   "execution_count": 46,
   "id": "7fe16e32",
   "metadata": {},
   "outputs": [
    {
     "data": {
      "text/plain": [
       "{'docstore': llama_index.core.storage.docstore.types.BaseDocumentStore,\n",
       " 'index_store': llama_index.core.storage.index_store.types.BaseIndexStore,\n",
       " 'vector_stores': typing.Dict[str, typing.Annotated[llama_index.core.vector_stores.types.BasePydanticVectorStore, SerializeAsAny()]],\n",
       " 'graph_store': llama_index.core.graph_stores.types.GraphStore,\n",
       " 'property_graph_store': typing.Optional[llama_index.core.graph_stores.types.PropertyGraphStore]}"
      ]
     },
     "execution_count": 46,
     "metadata": {},
     "output_type": "execute_result"
    }
   ],
   "source": [
    "storage_context.__annotations__"
   ]
  },
  {
   "cell_type": "code",
   "execution_count": null,
   "id": "d839503c",
   "metadata": {},
   "outputs": [],
   "source": []
  },
  {
   "cell_type": "code",
   "execution_count": null,
   "id": "0e2e7c7f",
   "metadata": {},
   "outputs": [],
   "source": []
  }
 ],
 "metadata": {
  "kernelspec": {
   "display_name": ".venv",
   "language": "python",
   "name": "python3"
  },
  "language_info": {
   "codemirror_mode": {
    "name": "ipython",
    "version": 3
   },
   "file_extension": ".py",
   "mimetype": "text/x-python",
   "name": "python",
   "nbconvert_exporter": "python",
   "pygments_lexer": "ipython3",
   "version": "3.10.15"
  }
 },
 "nbformat": 4,
 "nbformat_minor": 5
}
