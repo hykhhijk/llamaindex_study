{
 "cells": [
  {
   "cell_type": "code",
   "execution_count": 1,
   "id": "0cc84d39",
   "metadata": {},
   "outputs": [
    {
     "data": {
      "text/plain": [
       "True"
      ]
     },
     "execution_count": 1,
     "metadata": {},
     "output_type": "execute_result"
    }
   ],
   "source": [
    "import asyncio\n",
    "from llama_index.core.agent.workflow import FunctionAgent\n",
    "from llama_index.llms.openai import OpenAI\n",
    "\n",
    "import  load_dotenv\n",
    "load_dotenv.load_dotenv(\"../../.env\")"
   ]
  },
  {
   "cell_type": "markdown",
   "id": "b72afde5",
   "metadata": {},
   "source": [
    "몇가지 컨셉으로 RAG를 다룬다고 한다  \n",
    "1. Loading  \n",
    "Data ingestion: 다양한 데이터 소스로부터 데이터를 얻어냄\n",
    "2. Indexing\n",
    "Make Vector embedding\n",
    "3. Storing\n",
    "re-index 없이 바로 저장하기\n",
    "4. Querying\n",
    "서브쿼리, 멀티쿼리, Hybrid 쿼리 등 다양한 패턴으로 질문\n",
    "5. Evaluation\n",
    "query가 얼마나 정확히, 빠르게 대답이 생성되었는지  \n",
    "\n",
    "그 중에 llamaindex는 이 세가지를 중점적으로 다룬다함\n",
    "### 1. Loading\n",
    "### 2. Indexing\n",
    "### 3. Querying"
   ]
  },
  {
   "cell_type": "markdown",
   "id": "2a3e3a73",
   "metadata": {},
   "source": [
    "# Loading stage\n",
    "- Document: Data, API output, 어떤 DB로든부터 얻어진 데이터를 보관하는 컨테이너  \n",
    "- Node: 청크를 나타내는 단위, 메타데이터에 추가로 **원본 문서와의 연관을 보관함**->다른 노드연계가능\n",
    "- Reader: 추상적개념 data connector의 구현체, Ingestion을 담당하는듯"
   ]
  },
  {
   "cell_type": "code",
   "execution_count": 2,
   "id": "0a95abcc",
   "metadata": {},
   "outputs": [],
   "source": [
    "from llama_index.core import Document, VectorStoreIndex\n",
    "\n",
    "text_list = [\"Hello\", \"World\"]\n",
    "documents = [Document(text=t) for t in text_list]\n",
    "\n",
    "index = VectorStoreIndex.from_documents(documents)"
   ]
  },
  {
   "cell_type": "code",
   "execution_count": 5,
   "id": "8d05d42b",
   "metadata": {},
   "outputs": [],
   "source": [
    "from llama_index.core.node_parser import SentenceSplitter\n",
    "\n",
    "# load documents\n",
    "...\n",
    "\n",
    "# parse nodes\n",
    "parser = SentenceSplitter()\n",
    "nodes = parser.get_nodes_from_documents(documents)\n",
    "\n",
    "# build index\n",
    "index = VectorStoreIndex(nodes)"
   ]
  },
  {
   "cell_type": "code",
   "execution_count": 7,
   "id": "15bb4aef",
   "metadata": {},
   "outputs": [
    {
     "data": {
      "text/plain": [
       "[TextNode(id_='98184264-d9e6-4396-a2ff-ce101a64e5ff', embedding=None, metadata={}, excluded_embed_metadata_keys=[], excluded_llm_metadata_keys=[], relationships={<NodeRelationship.SOURCE: '1'>: RelatedNodeInfo(node_id='c34372e4-438d-44e7-8a36-5a4b787b63ad', node_type=<ObjectType.DOCUMENT: '4'>, metadata={}, hash='52c87cd40ccfbd7873af4180fced6d38803d4c3684ed60f6513e8d16077e5b8e')}, metadata_template='{key}: {value}', metadata_separator='\\n', text='Hello', mimetype='text/plain', start_char_idx=0, end_char_idx=5, metadata_seperator='\\n', text_template='{metadata_str}\\n\\n{content}'),\n",
       " TextNode(id_='c4755e65-e061-479f-b835-43d91a195521', embedding=None, metadata={}, excluded_embed_metadata_keys=[], excluded_llm_metadata_keys=[], relationships={<NodeRelationship.SOURCE: '1'>: RelatedNodeInfo(node_id='ccac99ff-d8b1-4f97-879a-0d31b9e8c21f', node_type=<ObjectType.DOCUMENT: '4'>, metadata={}, hash='ff5897aa373b6f1f671166b31e806183334dbfd64eb05f8970ca9555a8643e6e')}, metadata_template='{key}: {value}', metadata_separator='\\n', text='World', mimetype='text/plain', start_char_idx=0, end_char_idx=5, metadata_seperator='\\n', text_template='{metadata_str}\\n\\n{content}')]"
      ]
     },
     "execution_count": 7,
     "metadata": {},
     "output_type": "execute_result"
    }
   ],
   "source": [
    "nodes"
   ]
  },
  {
   "cell_type": "code",
   "execution_count": 13,
   "id": "f1fff227",
   "metadata": {},
   "outputs": [],
   "source": [
    "from llama_index.core import SimpleDirectoryReader\n",
    "\n",
    "documents = SimpleDirectoryReader(\"./data\").load_data()"
   ]
  },
  {
   "cell_type": "markdown",
   "id": "fcbbe74c",
   "metadata": {},
   "source": [
    "## Inject metadata"
   ]
  },
  {
   "cell_type": "code",
   "execution_count": 14,
   "id": "56415efe",
   "metadata": {},
   "outputs": [],
   "source": [
    "document = Document(\n",
    "    text=\"text\",\n",
    "    metadata={\"filename\": \"<doc_file_name>\", \"category\": \"<category>\"},\n",
    ")"
   ]
  },
  {
   "cell_type": "code",
   "execution_count": 15,
   "id": "f0efd53e",
   "metadata": {},
   "outputs": [],
   "source": [
    "document.metadata = {\"filename\": \"<doc_file_name>\"}"
   ]
  },
  {
   "cell_type": "code",
   "execution_count": null,
   "id": "99208efe",
   "metadata": {},
   "outputs": [],
   "source": [
    "from llama_index.core import SimpleDirectoryReader\n",
    "\n",
    "filename_fn = lambda filename: {\"file_name\": filename}\n",
    "\n",
    "# automatically sets the metadata of each document according to filename_fn\n",
    "## 이게 뭔...?\n",
    "documents = SimpleDirectoryReader(\n",
    "    \"./data\", file_metadata=filename_fn\n",
    ").load_data()"
   ]
  },
  {
   "cell_type": "markdown",
   "id": "00ffab82",
   "metadata": {},
   "source": [
    "## ID 지정"
   ]
  },
  {
   "cell_type": "code",
   "execution_count": null,
   "id": "35edf158",
   "metadata": {},
   "outputs": [],
   "source": [
    "from llama_index.core import SimpleDirectoryReader\n",
    "\n",
    "documents = SimpleDirectoryReader(\"./data\", filename_as_id=True).load_data()\n",
    "print([x.doc_id for x in documents])"
   ]
  },
  {
   "cell_type": "code",
   "execution_count": null,
   "id": "0195704c",
   "metadata": {},
   "outputs": [],
   "source": []
  },
  {
   "cell_type": "code",
   "execution_count": null,
   "id": "d29e4309",
   "metadata": {},
   "outputs": [],
   "source": []
  },
  {
   "cell_type": "code",
   "execution_count": null,
   "id": "d701be3c",
   "metadata": {},
   "outputs": [],
   "source": []
  },
  {
   "cell_type": "code",
   "execution_count": null,
   "id": "f1f0d055",
   "metadata": {},
   "outputs": [],
   "source": []
  }
 ],
 "metadata": {
  "kernelspec": {
   "display_name": ".venv",
   "language": "python",
   "name": "python3"
  },
  "language_info": {
   "codemirror_mode": {
    "name": "ipython",
    "version": 3
   },
   "file_extension": ".py",
   "mimetype": "text/x-python",
   "name": "python",
   "nbconvert_exporter": "python",
   "pygments_lexer": "ipython3",
   "version": "3.10.15"
  }
 },
 "nbformat": 4,
 "nbformat_minor": 5
}
